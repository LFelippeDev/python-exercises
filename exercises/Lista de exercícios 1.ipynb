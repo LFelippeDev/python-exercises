{
 "cells": [
  {
   "cell_type": "markdown",
   "metadata": {},
   "source": [
    "# Exercícios - Aula 1"
   ]
  },
  {
   "cell_type": "markdown",
   "metadata": {},
   "source": [
    "# Exercícios - Operações Básicas"
   ]
  },
  {
   "cell_type": "code",
   "execution_count": 4,
   "metadata": {},
   "outputs": [],
   "source": [
    "# Faça o resultado da multiplicação de 10 x 3 e armazene o resultado em uma variável chamada result\n",
    "\n",
    "# Digite o seu código abaixo\n",
    "\n",
    "result = 10 * 3\n",
    "\n",
    "\n"
   ]
  },
  {
   "cell_type": "code",
   "execution_count": 5,
   "metadata": {},
   "outputs": [],
   "source": [
    "# Com a variável que armazenou acima, teste se o resultado é igual a 40 e armazene o resultado em uma variável booleana chamada result_bool\n",
    "\n",
    "# Digite seu código abaixo\n",
    "\n",
    "result_bool = result == 40\n"
   ]
  },
  {
   "cell_type": "code",
   "execution_count": 6,
   "metadata": {},
   "outputs": [
    {
     "name": "stdout",
     "output_type": "stream",
     "text": [
      "Resposta correta\n",
      "Resposta Correta\n"
     ]
    }
   ],
   "source": [
    "# Verifique seus resultados - Apenas rodar essa célula\n",
    "\n",
    "if result == 30:\n",
    "    print('Resposta correta')\n",
    "else:\n",
    "    print('Resposta Incorreta , verifique seu código')\n",
    "    \n",
    "    \n",
    "if result_bool == False:\n",
    "    print('Resposta Correta') \n",
    "else:\n",
    "    print('Resposta Incorreta, verifique seu código')"
   ]
  },
  {
   "cell_type": "code",
   "execution_count": 7,
   "metadata": {},
   "outputs": [],
   "source": [
    "# Crie uma outra variável chamada string com o texto \"Olá\"\n",
    "#Digite seu código abaixo:\n",
    "\n",
    "string = \"Olá\"\n"
   ]
  },
  {
   "cell_type": "code",
   "execution_count": 8,
   "metadata": {},
   "outputs": [],
   "source": [
    "#Agora crie uma variável chamada eco, que repita a variável string 10 vezes, faça isso utilizando operações com textos\n",
    "\n",
    "# Digite seu código abaixo:\n",
    "\n",
    "eco = string * 10"
   ]
  },
  {
   "cell_type": "code",
   "execution_count": 9,
   "metadata": {},
   "outputs": [
    {
     "name": "stdout",
     "output_type": "stream",
     "text": [
      "Resposta Correta\n",
      "Resposta Correta\n"
     ]
    }
   ],
   "source": [
    "# Resposta:\n",
    "\n",
    "if string =='Olá':\n",
    "    print('Resposta Correta')\n",
    "else:\n",
    "    print('Tente novamente')\n",
    "    \n",
    "if eco == string*10:\n",
    "    print('Resposta Correta')\n",
    "else:\n",
    "    print('Tente Novamente')"
   ]
  },
  {
   "cell_type": "markdown",
   "metadata": {},
   "source": [
    "# Exercícios - Lista"
   ]
  },
  {
   "cell_type": "code",
   "execution_count": 10,
   "metadata": {},
   "outputs": [],
   "source": [
    "#Exercício 1\n",
    "\n",
    "# Supondo uma lista com as idades dos alunos da turma\n",
    "\n",
    "idades = [30, 27, 31, 45, 50, 22, 18, 26, 30]\n",
    "\n",
    "# Suponha que tenha um aluno novo na turma e que tenha 57 anos, adicione essa idade na lista\n",
    "# Digite seu código abaixo:\n",
    "\n",
    "idades.append(57)\n"
   ]
  },
  {
   "cell_type": "code",
   "execution_count": 11,
   "metadata": {},
   "outputs": [
    {
     "name": "stdout",
     "output_type": "stream",
     "text": [
      "Resposta Correta\n"
     ]
    }
   ],
   "source": [
    "#Exercício 1\n",
    "\n",
    "if idades == [30, 27, 31, 45, 50, 22, 18, 26, 30, 57]:\n",
    "    print('Resposta Correta')\n",
    "else:\n",
    "    print('Tente Novamente')"
   ]
  },
  {
   "cell_type": "code",
   "execution_count": 12,
   "metadata": {},
   "outputs": [],
   "source": [
    "# Exercício 2\n",
    "\n",
    "# Agora o aluno resolveu mudar de turma, vamos remover a idade dele da lista\n",
    "#Digite seu código abaixo:\n",
    "\n",
    "idades.remove(57)\n"
   ]
  },
  {
   "cell_type": "code",
   "execution_count": 13,
   "metadata": {},
   "outputs": [
    {
     "name": "stdout",
     "output_type": "stream",
     "text": [
      "Resposta Correta\n"
     ]
    }
   ],
   "source": [
    "# Exercício 2\n",
    "\n",
    "if idades == [30, 27, 31, 45, 50, 22, 18, 26, 30]:\n",
    "    print('Resposta Correta')\n",
    "else:\n",
    "    print('Tente Novamente')"
   ]
  },
  {
   "cell_type": "code",
   "execution_count": 15,
   "metadata": {},
   "outputs": [],
   "source": [
    "# Exercício 3\n",
    "\n",
    "# Queremos saber qual a média de idades dos alunos da turma\n",
    "# Vamos fazer esse cálculo por etapas\n",
    "\n",
    "# Calcule a soma dos elementos da lista\n",
    "# Digite seu código abaixo\n",
    "list_sum = sum(idades)\n",
    "\n",
    "\n",
    "# Calcule a quantidade de itens na lista\n",
    "# Digite seu código abaixo\n",
    "list_lenght = len(idades)\n",
    "\n",
    "\n",
    "# Agora calcule a média dividindo a soma pela quantidade de itens, chame o valor final de media\n",
    "# Digite seu código abaixo\n",
    "media = list_sum / list_lenght\n",
    "\n"
   ]
  },
  {
   "cell_type": "code",
   "execution_count": 16,
   "metadata": {},
   "outputs": [
    {
     "name": "stdout",
     "output_type": "stream",
     "text": [
      "Resposta Correta\n"
     ]
    }
   ],
   "source": [
    "# Exercício 3\n",
    "\n",
    "if media ==31:\n",
    "    print('Resposta Correta')\n",
    "else:\n",
    "    print('Tente Novamente')"
   ]
  },
  {
   "cell_type": "code",
   "execution_count": null,
   "metadata": {},
   "outputs": [],
   "source": [
    "#Como você atribuiria o valor 'hello' como o terceiro valor de uma lista armazenada em uma \n",
    "#variável chamada spam? (Suponha que spam contenha [2, 4, 6, 8, 10].)\n",
    "spam = [2, 4, 6, 8, 10]\n",
    "spam[2] = 'hello'\n",
    "\n"
   ]
  },
  {
   "cell_type": "code",
   "execution_count": 22,
   "metadata": {},
   "outputs": [
    {
     "data": {
      "text/plain": [
       "['a', 'b']"
      ]
     },
     "execution_count": 22,
     "metadata": {},
     "output_type": "execute_result"
    }
   ],
   "source": [
    "# Para as três perguntas a seguir, vamos supor que spam contenha a lista ['a', 'b', 'c', 'd'].\n",
    "# Para que valor spam[int(int('3' * 2) / 11)] é avaliado?\n",
    "# Para que valor spam[-1] é avaliado?\n",
    "# Para que valor spam[:2] é avaliado?\n",
    "spam = ['a', 'b', 'c', 'd']\n",
    "spam[int(int('3' * 2) / 11)]\n",
    "spam[-1]\n",
    "spam[:2]"
   ]
  },
  {
   "cell_type": "code",
   "execution_count": 24,
   "metadata": {},
   "outputs": [
    {
     "name": "stdout",
     "output_type": "stream",
     "text": [
      "apples, bananas, tofu and cats\n"
     ]
    }
   ],
   "source": [
    "### Suponha que você tenha um valor de lista como: spam = ['apples', 'bananas', 'tofu', 'cats'] \n",
    "#Crie uma função que aceite um valor de lista como argumento e retorne uma string com todos os \n",
    "#itens separados por uma vírgula e um espaço, com and inserido antes do último item. Por exemplo,\n",
    "#se passarmos a lista spam anterior à função, 'apples, bananas, tofu, and cats' será retornado. \n",
    "#Porém sua função deverá ser capaz de trabalhar com qualquer valor de lista que ela receber.\n",
    "\n",
    "spam = ['apples', 'bananas', 'tofu', 'cats']\n",
    "def list_to_string(spam):\n",
    "    return ', '.join(spam[:-1]) + ' and ' + spam[-1]\n"
   ]
  },
  {
   "cell_type": "markdown",
   "metadata": {},
   "source": [
    "# Exercícios - Dicionários"
   ]
  },
  {
   "cell_type": "code",
   "execution_count": 25,
   "metadata": {},
   "outputs": [],
   "source": [
    "# Supondo o dicionário usado na aula\n",
    "\n",
    "dict_idades = {'Pedro':30,'Carlos':27,'Maria':31,'Alice':45,'Marina':50,'Marcos':22,'Antonio':18,'José':26,'Renata':30}"
   ]
  },
  {
   "cell_type": "code",
   "execution_count": 27,
   "metadata": {},
   "outputs": [],
   "source": [
    "# Retorne a idade de Maria e armazene na variável \"maria\"\n",
    "# Escreva seu código abaixo:\n",
    "maria = dict_idades['Maria']\n",
    "\n"
   ]
  },
  {
   "cell_type": "code",
   "execution_count": 28,
   "metadata": {},
   "outputs": [
    {
     "name": "stdout",
     "output_type": "stream",
     "text": [
      "Resposta Correta\n"
     ]
    }
   ],
   "source": [
    "# Verificando a resposta:\n",
    "\n",
    "if maria ==31:\n",
    "    print('Resposta Correta')\n",
    "else:\n",
    "    print('Tente Novamente')"
   ]
  },
  {
   "cell_type": "code",
   "execution_count": 29,
   "metadata": {},
   "outputs": [],
   "source": [
    "# Temos um novo aluno na classe, o nome dele é Henrique e ele tem 50 anos. Atualize o dicionário:\n",
    "dict_idades.update({'Henrique':50})\n"
   ]
  },
  {
   "cell_type": "code",
   "execution_count": 30,
   "metadata": {},
   "outputs": [
    {
     "name": "stdout",
     "output_type": "stream",
     "text": [
      "Resposta Correta\n"
     ]
    }
   ],
   "source": [
    "# Verificando a resposta:\n",
    "\n",
    "if dict_idades['Henrique'] ==50:\n",
    "    print('Resposta Correta')\n",
    "else:\n",
    "    print('Tente Novamente')"
   ]
  },
  {
   "cell_type": "code",
   "execution_count": 31,
   "metadata": {},
   "outputs": [],
   "source": [
    "# Retorne a soma das idades de Pedro e Henrique e armazene o resultado na variável soma:\n",
    "soma = dict_idades['Pedro'] + dict_idades['Henrique']\n",
    "\n",
    "\n"
   ]
  },
  {
   "cell_type": "code",
   "execution_count": 32,
   "metadata": {},
   "outputs": [
    {
     "name": "stdout",
     "output_type": "stream",
     "text": [
      "Resposta Correta\n"
     ]
    }
   ],
   "source": [
    "# Verificando a resposta:\n",
    "\n",
    "if soma == 80:\n",
    "    print('Resposta Correta')\n",
    "else:\n",
    "    print('Tente Novamente')"
   ]
  }
 ],
 "metadata": {
  "kernelspec": {
   "display_name": "Python 3.9.6 64-bit",
   "language": "python",
   "name": "python3"
  },
  "language_info": {
   "codemirror_mode": {
    "name": "ipython",
    "version": 3
   },
   "file_extension": ".py",
   "mimetype": "text/x-python",
   "name": "python",
   "nbconvert_exporter": "python",
   "pygments_lexer": "ipython3",
   "version": "3.9.6"
  },
  "vscode": {
   "interpreter": {
    "hash": "31f2aee4e71d21fbe5cf8b01ff0e069b9275f58929596ceb00d14d90e3e16cd6"
   }
  }
 },
 "nbformat": 4,
 "nbformat_minor": 4
}
